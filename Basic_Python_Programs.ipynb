{
  "nbformat": 4,
  "nbformat_minor": 0,
  "metadata": {
    "colab": {
      "provenance": []
    },
    "kernelspec": {
      "name": "python3",
      "display_name": "Python 3"
    },
    "language_info": {
      "name": "python"
    }
  },
  "cells": [
    {
      "cell_type": "code",
      "execution_count": null,
      "metadata": {
        "colab": {
          "base_uri": "https://localhost:8080/"
        },
        "id": "pkdQIFmLuU34",
        "outputId": "8b98b558-1e79-4792-c5ad-eb1ada17a20b"
      },
      "outputs": [
        {
          "output_type": "stream",
          "name": "stdout",
          "text": [
            "4\n",
            "even\n"
          ]
        }
      ],
      "source": [
        "#Write a program to print the given number is odd or even.\n",
        "num=int(input())\n",
        "if num%2==0:\n",
        "  print(\"even\")\n",
        "else:\n",
        "  print(\"odd\")"
      ]
    },
    {
      "cell_type": "code",
      "source": [
        "#Write a program to find the given number is positive or negative.\n",
        "num=int(input())\n",
        "if num<0:\n",
        "  print(\"Negative\")\n",
        "elif num>0:\n",
        "  print(\"Positive\")\n",
        "else:\n",
        "  print(\"Zero\")"
      ],
      "metadata": {
        "colab": {
          "base_uri": "https://localhost:8080/"
        },
        "id": "LL0-suzNwliR",
        "outputId": "059448bc-b894-49fe-cf13-7f273882acaa"
      },
      "execution_count": null,
      "outputs": [
        {
          "output_type": "stream",
          "name": "stdout",
          "text": [
            "0\n",
            "Zero\n"
          ]
        }
      ]
    },
    {
      "cell_type": "code",
      "source": [
        "#Write a program to find the sum of two numbers.\n",
        "a=int(input(\"a:\"))\n",
        "b=int(input(\"b:\"))\n",
        "print(\"a+b:\",a+b)"
      ],
      "metadata": {
        "colab": {
          "base_uri": "https://localhost:8080/"
        },
        "id": "-zxi_nBPxvu4",
        "outputId": "b1e0098f-0e13-4f7d-f14d-ac5ed189fa52"
      },
      "execution_count": null,
      "outputs": [
        {
          "output_type": "stream",
          "name": "stdout",
          "text": [
            "a:6\n",
            "b:4\n",
            "a+b: 10\n"
          ]
        }
      ]
    },
    {
      "cell_type": "code",
      "source": [
        "#Write a program to find if the given number is prime or not.\n",
        "n=int(input())\n",
        "count=0\n",
        "for i in range(1,n):\n",
        "  if n % i==0:\n",
        "    count+=1\n",
        "if count==1:\n",
        "  print(n,\"is a prime number\")\n",
        "else:\n",
        "  print(n,\"is a composite number\")"
      ],
      "metadata": {
        "colab": {
          "base_uri": "https://localhost:8080/"
        },
        "id": "RZoLHVfhyGKF",
        "outputId": "a6e19f64-d922-40a1-b492-aac5b917a416"
      },
      "execution_count": null,
      "outputs": [
        {
          "output_type": "stream",
          "name": "stdout",
          "text": [
            "5\n",
            "5 is a prime number\n"
          ]
        }
      ]
    },
    {
      "cell_type": "code",
      "source": [
        "#Write a program to check if the given number is palindrome or not.\n",
        "n=int(input())\n",
        "t=n\n",
        "ans=0\n",
        "while t>0:\n",
        "  rem=t%10\n",
        "  ans=(ans*10)+rem\n",
        "  t=t//10\n",
        "if n==ans:\n",
        "  print(n,\"is a palindrome\")\n",
        "else:\n",
        "  print(n,\"is not a palindrome\")"
      ],
      "metadata": {
        "colab": {
          "base_uri": "https://localhost:8080/"
        },
        "id": "8sDBbcLw3G0C",
        "outputId": "a9ca822b-ad10-41fd-c568-f74d06bba200"
      },
      "execution_count": null,
      "outputs": [
        {
          "output_type": "stream",
          "name": "stdout",
          "text": [
            "4554\n",
            "4554 is a palindrome\n"
          ]
        }
      ]
    },
    {
      "cell_type": "code",
      "source": [
        "#Write a program to check if the given number is Armstrong or not\n",
        "n=int(input(\"n:\"))\n",
        "'''num=n\n",
        "count=0\n",
        "#finding no. of digits\n",
        "while num>0:\n",
        "  count+=1\n",
        "  num=num//10\n",
        "num=count'''\n",
        "num = len(str(n))\n",
        "#armstrong\n",
        "ans=0\n",
        "t=n\n",
        "while t>0:\n",
        "  c=t%10\n",
        "  ans+=c**num\n",
        "  t=t//10\n",
        "if ans==n:\n",
        "  print(n,\"is a armstrong number\")\n",
        "else:\n",
        "  print(n,\"is not a armstrong number\")"
      ],
      "metadata": {
        "colab": {
          "base_uri": "https://localhost:8080/"
        },
        "id": "GYq-tkgV-xXO",
        "outputId": "b7e46983-41fd-427f-cb3e-8b9f588abba5"
      },
      "execution_count": null,
      "outputs": [
        {
          "output_type": "stream",
          "name": "stdout",
          "text": [
            "n:8408\n",
            "8408 is not a armstrong number\n"
          ]
        }
      ]
    },
    {
      "cell_type": "code",
      "source": [
        "#Write a program to find a maximum of two numbers.\n",
        "n1=int(input())\n",
        "n2=int(input())\n",
        "print(\"The max number is:\",max(n1,n2))"
      ],
      "metadata": {
        "colab": {
          "base_uri": "https://localhost:8080/"
        },
        "id": "vJK8j4cuXVDx",
        "outputId": "6a628f11-f980-423b-ecc0-e37dfcbcb0c5"
      },
      "execution_count": null,
      "outputs": [
        {
          "output_type": "stream",
          "name": "stdout",
          "text": [
            "8\n",
            "8\n",
            "The max number is: 8\n"
          ]
        }
      ]
    },
    {
      "cell_type": "code",
      "source": [
        "#Write a program to find a minimum of two numbers.\n",
        "n1=int(input())\n",
        "n2=int(input())\n",
        "print(\"The min number is\",min(n1,n2))"
      ],
      "metadata": {
        "colab": {
          "base_uri": "https://localhost:8080/"
        },
        "id": "235-PXlzcGIC",
        "outputId": "fc9caf38-0e62-44d6-81b0-7d2625f6ea65"
      },
      "execution_count": null,
      "outputs": [
        {
          "output_type": "stream",
          "name": "stdout",
          "text": [
            "8\n",
            "7\n",
            "The min number is 7\n"
          ]
        }
      ]
    },
    {
      "cell_type": "code",
      "source": [
        "#Write a program to find a maximum of three numbers.\n",
        "x,y,z=(int(input()),int(input()),int(input()))\n",
        "print(\"The max number is\",max(x,y,z))"
      ],
      "metadata": {
        "colab": {
          "base_uri": "https://localhost:8080/"
        },
        "id": "4crMP5xLZK49",
        "outputId": "8fc263a1-8f37-4f7b-fbd0-7a3e4fc016fd"
      },
      "execution_count": null,
      "outputs": [
        {
          "output_type": "stream",
          "name": "stdout",
          "text": [
            "8\n",
            "9\n",
            "77\n",
            "The max number is 77\n"
          ]
        }
      ]
    },
    {
      "cell_type": "code",
      "source": [
        "#Write a program to find a factorial of a number\n",
        "n=int(input())\n",
        "factorial=1\n",
        "if n>0:\n",
        "  for i in range(1,n+1):\n",
        "    factorial=factorial*i\n",
        "  print(\"The Factorial is:\",factorial)\n",
        "elif n<0:\n",
        "  print(\"factorial does not exist for negative numbers\")\n",
        "else:\n",
        "  print(\"The factorial is: 1\")\n"
      ],
      "metadata": {
        "colab": {
          "base_uri": "https://localhost:8080/"
        },
        "id": "07u6l8bnbzgI",
        "outputId": "71a89cb1-3180-4305-d524-a8dba5af1486"
      },
      "execution_count": null,
      "outputs": [
        {
          "output_type": "stream",
          "name": "stdout",
          "text": [
            "3\n",
            "The Factorial is: 6\n"
          ]
        }
      ]
    }
  ]
}